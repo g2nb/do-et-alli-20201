{
 "cells": [
  {
   "cell_type": "markdown",
   "id": "preceding-annex",
   "metadata": {},
   "source": [
    "# Identifying which gene sets are enriched in TCGA samples where FZD7 is overexpressed"
   ]
  },
  {
   "cell_type": "markdown",
   "id": "express-amplifier",
   "metadata": {},
   "source": [
    "<div class=\"alert alert-info\">\n",
    "<p class=\"lead\"> Instructions <i class=\"fa fa-info-circle\"></i></p>\n",
    "Run all cells (in order) in this notebook if you want to create the GSEA figure from \"A FZD7-specific antibody-drug conjugate induces tumor regression in preclinical modelsTargeting solid tumors with a FZD7-specific antibody-drug conjugateTargeting FZD7\n",
    "</div>"
   ]
  },
  {
   "cell_type": "markdown",
   "id": "apparent-cosmetic",
   "metadata": {},
   "source": [
    "<div class=\"well well-sm\">\n",
    "GenePattern jobs have been pre-ran and should be available after logging in.\n",
    "</div>"
   ]
  },
  {
   "cell_type": "code",
   "execution_count": 8,
   "id": "lyric-detector",
   "metadata": {
    "genepattern": {
     "name": "Login",
     "server": "https://cloud.genepattern.org/gp",
     "type": "auth"
    }
   },
   "outputs": [
    {
     "data": {
      "application/vnd.jupyter.widget-view+json": {
       "model_id": "5e79d67a598f4322a5397f11b14233a0",
       "version_major": 2,
       "version_minor": 0
      },
      "text/plain": [
       "GPAuthWidget()"
      ]
     },
     "metadata": {},
     "output_type": "display_data"
    }
   ],
   "source": [
    "# Requires GenePattern Notebook: pip install genepattern-notebook\n",
    "import gp\n",
    "import genepattern\n",
    "\n",
    "# Username and password removed for security reasons.\n",
    "genepattern.display(genepattern.session.register(\"https://cloud.genepattern.org/gp\", \"\", \"\"))"
   ]
  },
  {
   "cell_type": "markdown",
   "id": "coordinate-guide",
   "metadata": {},
   "source": [
    "# OV"
   ]
  },
  {
   "cell_type": "code",
   "execution_count": 9,
   "id": "elect-guatemala",
   "metadata": {
    "genepattern": {
     "description": "Retrieve TCGA data from Broad FireBrowse and perform sample selection on the basis of expression levels for specific genes of interest for analysis using GSEA tools.",
     "name": "TCGA.SampleSelection",
     "param_values": {
      "Gene.Symbol": null,
      "High.Expression": null,
      "Low.Expression": null,
      "MSigDB.Version": null,
      "Output.Type": null,
      "TCGA.Collection": null,
      "job.cpuCount": null,
      "job.memory": null,
      "job.queue": null,
      "job.walltime": null
     },
     "type": "task"
    }
   },
   "outputs": [
    {
     "data": {
      "application/vnd.jupyter.widget-view+json": {
       "model_id": "6f5edfd896e347d0a36b0915133db613",
       "version_major": 2,
       "version_minor": 0
      },
      "text/plain": [
       "GPTaskWidget(lsid='urn:lsid:genepattern.org:module.analysis:00417')"
      ]
     },
     "metadata": {},
     "output_type": "display_data"
    },
    {
     "data": {
      "application/vnd.jupyter.widget-view+json": {
       "model_id": "c8d00616d1904778bce768fea4decfeb",
       "version_major": 2,
       "version_minor": 0
      },
      "text/plain": [
       "GPJobWidget(job_number=347659)"
      ]
     },
     "metadata": {},
     "output_type": "display_data"
    }
   ],
   "source": [
    "tcga_sampleselection_task = gp.GPTask(genepattern.session.get(0), 'urn:lsid:genepattern.org:module.analysis:00417')\n",
    "tcga_sampleselection_job_spec = tcga_sampleselection_task.make_job_spec()\n",
    "tcga_sampleselection_job_spec.set_parameter(\"TCGA.Collection\", \"OV\")\n",
    "tcga_sampleselection_job_spec.set_parameter(\"Gene.Symbol\", \"FZD7\")\n",
    "tcga_sampleselection_job_spec.set_parameter(\"High.Expression\", \"1\")\n",
    "tcga_sampleselection_job_spec.set_parameter(\"Low.Expression\", \"-1\")\n",
    "tcga_sampleselection_job_spec.set_parameter(\"Output.Type\", \"scaled_estimate\")\n",
    "tcga_sampleselection_job_spec.set_parameter(\"MSigDB.Version\", \"7.2\")\n",
    "tcga_sampleselection_job_spec.set_parameter(\"job.memory\", \"4 Gb\")\n",
    "tcga_sampleselection_job_spec.set_parameter(\"job.queue\", \"gp-cloud-default\")\n",
    "tcga_sampleselection_job_spec.set_parameter(\"job.cpuCount\", \"1\")\n",
    "tcga_sampleselection_job_spec.set_parameter(\"job.walltime\", \"02:00:00\")\n",
    "genepattern.display(tcga_sampleselection_task)\n",
    "\n",
    "\n",
    "job347659 = gp.GPJob(genepattern.session.get(0), 347659)\n",
    "genepattern.display(job347659)"
   ]
  },
  {
   "cell_type": "code",
   "execution_count": 10,
   "id": "embedded-playing",
   "metadata": {
    "genepattern": {
     "description": "Performs single sample GSEA.  NOTE: with the release of v10.0.1, this module was renamed from \"ssGSEAProjection\" to just \"ssGSEA\"",
     "name": "ssGSEA",
     "param_values": {
      "combine.mode": null,
      "gene.set.selection": null,
      "gene.sets.database.files": null,
      "gene.symbol.column": null,
      "input.gct.file": null,
      "job.cpuCount": null,
      "job.memory": null,
      "job.queue": null,
      "job.walltime": null,
      "min.gene.set.size": null,
      "output.file.prefix": null,
      "sample.normalization.method": null,
      "weighting.exponent": null
     },
     "type": "task"
    }
   },
   "outputs": [
    {
     "data": {
      "application/vnd.jupyter.widget-view+json": {
       "model_id": "3c78f0c960654b7c9705e90ef803cf54",
       "version_major": 2,
       "version_minor": 0
      },
      "text/plain": [
       "GPTaskWidget(lsid='urn:lsid:broad.mit.edu:cancer.software.genepattern.module.analysis:00270')"
      ]
     },
     "metadata": {},
     "output_type": "display_data"
    },
    {
     "data": {
      "application/vnd.jupyter.widget-view+json": {
       "model_id": "0a2b60db36904c08b92f534658cffdbf",
       "version_major": 2,
       "version_minor": 0
      },
      "text/plain": [
       "GPJobWidget(job_number=347663)"
      ]
     },
     "metadata": {},
     "output_type": "display_data"
    }
   ],
   "source": [
    "ssgsea_task = gp.GPTask(genepattern.session.get(0), 'urn:lsid:broad.mit.edu:cancer.software.genepattern.module.analysis:00270')\n",
    "ssgsea_job_spec = ssgsea_task.make_job_spec()\n",
    "ssgsea_job_spec.set_parameter(\"input.gct.file\", \"https://cloud.genepattern.org/gp/jobResults/347659/TCGA_OV_FZD7_HIGH_stdev_greater_than_1_vs_LOW_stdev_less_than_neg_1.TPM.gct\")\n",
    "ssgsea_job_spec.set_parameter(\"output.file.prefix\", \"\")\n",
    "ssgsea_job_spec.set_parameter(\"gene.sets.database.files\", [\"ftp://gpftp.broadinstitute.org/module_support_files/msigdb/gmt/h.all.v7.4.symbols.gmt\", \"ftp://gpftp.broadinstitute.org/module_support_files/msigdb/gmt/c6.all.v7.4.symbols.gmt\"])\n",
    "ssgsea_job_spec.set_parameter(\"gene.symbol.column\", \"Name\")\n",
    "ssgsea_job_spec.set_parameter(\"gene.set.selection\", \"ALL\")\n",
    "ssgsea_job_spec.set_parameter(\"sample.normalization.method\", \"none\")\n",
    "ssgsea_job_spec.set_parameter(\"weighting.exponent\", \"0.75\")\n",
    "ssgsea_job_spec.set_parameter(\"min.gene.set.size\", \"10\")\n",
    "ssgsea_job_spec.set_parameter(\"combine.mode\", \"combine.add\")\n",
    "ssgsea_job_spec.set_parameter(\"job.memory\", \"2 Gb\")\n",
    "ssgsea_job_spec.set_parameter(\"job.queue\", \"gp-new-beta\")\n",
    "ssgsea_job_spec.set_parameter(\"job.cpuCount\", \"1\")\n",
    "ssgsea_job_spec.set_parameter(\"job.walltime\", \"02:00:00\")\n",
    "genepattern.display(ssgsea_task)\n",
    "\n",
    "job347663 = gp.GPJob(genepattern.session.get(0), 347663)\n",
    "genepattern.display(job347663)"
   ]
  },
  {
   "cell_type": "code",
   "execution_count": 11,
   "id": "inclusive-tribe",
   "metadata": {
    "genepattern": {
     "description": "Generate ROC curves and calculate the AUC from ssGSEA results and a binary phenotype classification.",
     "name": "ssGSEA_ROC",
     "param_values": {
      "CLS": null,
      "PROJ.gct": null,
      "Plot.Top.Results": null,
      "Reverse": null,
      "job.cpuCount": null,
      "job.memory": null,
      "job.queue": null,
      "job.walltime": null
     },
     "type": "task"
    }
   },
   "outputs": [
    {
     "data": {
      "application/vnd.jupyter.widget-view+json": {
       "model_id": "2fb44c2b9e594abfa60851dee2aa6407",
       "version_major": 2,
       "version_minor": 0
      },
      "text/plain": [
       "GPTaskWidget(lsid='urn:lsid:8080.gpserver.ip-172-31-26-71.ip-172-31-26-71.ec2.internal:genepatternmodules:177'…"
      ]
     },
     "metadata": {},
     "output_type": "display_data"
    },
    {
     "data": {
      "application/vnd.jupyter.widget-view+json": {
       "model_id": "2114cb9ba99f4fdeb5b0453d4317a62e",
       "version_major": 2,
       "version_minor": 0
      },
      "text/plain": [
       "GPJobWidget(job_number=347667)"
      ]
     },
     "metadata": {},
     "output_type": "display_data"
    }
   ],
   "source": [
    "ssgsea_roc_task = gp.GPTask(genepattern.session.get(0), 'urn:lsid:8080.gpserver.ip-172-31-26-71.ip-172-31-26-71.ec2.internal:genepatternmodules:177')\n",
    "ssgsea_roc_job_spec = ssgsea_roc_task.make_job_spec()\n",
    "ssgsea_roc_job_spec.set_parameter(\"PROJ.gct\", \"https://cloud.genepattern.org/gp/jobResults/347663/TCGA_OV_FZD7_HIGH_stdev_greater_than_1_vs_LOW_stdev_less_than_neg_1.TPM.PROJ.gct\")\n",
    "ssgsea_roc_job_spec.set_parameter(\"CLS\", \"https://cloud.genepattern.org/gp/jobResults/347659/TCGA_OV_FZD7_HIGH_stdev_greater_than_1_vs_LOW_stdev_less_than_neg_1.cls\")\n",
    "ssgsea_roc_job_spec.set_parameter(\"Reverse\", \"FALSE\")\n",
    "ssgsea_roc_job_spec.set_parameter(\"Plot.Top.Results\", \"20\")\n",
    "ssgsea_roc_job_spec.set_parameter(\"job.memory\", \"2 Gb\")\n",
    "ssgsea_roc_job_spec.set_parameter(\"job.queue\", \"gp-new-beta\")\n",
    "ssgsea_roc_job_spec.set_parameter(\"job.cpuCount\", \"1\")\n",
    "ssgsea_roc_job_spec.set_parameter(\"job.walltime\", \"02:00:00\")\n",
    "genepattern.display(ssgsea_roc_task)\n",
    "\n",
    "job347667 = gp.GPJob(genepattern.session.get(0), 347667)\n",
    "genepattern.display(job347667)"
   ]
  },
  {
   "cell_type": "code",
   "execution_count": null,
   "id": "pleased-lighting",
   "metadata": {},
   "outputs": [],
   "source": []
  },
  {
   "cell_type": "markdown",
   "id": "solid-bahrain",
   "metadata": {},
   "source": [
    "# BRCA"
   ]
  },
  {
   "cell_type": "code",
   "execution_count": 12,
   "id": "chubby-watershed",
   "metadata": {
    "genepattern": {
     "description": "Retrieve TCGA data from Broad FireBrowse and perform sample selection on the basis of expression levels for specific genes of interest for analysis using GSEA tools.",
     "name": "TCGA.SampleSelection",
     "param_values": {
      "Gene.Symbol": null,
      "High.Expression": null,
      "Low.Expression": null,
      "MSigDB.Version": null,
      "Output.Type": null,
      "TCGA.Collection": null,
      "job.cpuCount": null,
      "job.memory": null,
      "job.queue": null,
      "job.walltime": null
     },
     "type": "task"
    }
   },
   "outputs": [
    {
     "data": {
      "application/vnd.jupyter.widget-view+json": {
       "model_id": "39298eb666f549e8a3cf08a3fb4a847b",
       "version_major": 2,
       "version_minor": 0
      },
      "text/plain": [
       "GPTaskWidget(lsid='urn:lsid:genepattern.org:module.analysis:00417')"
      ]
     },
     "metadata": {},
     "output_type": "display_data"
    },
    {
     "data": {
      "application/vnd.jupyter.widget-view+json": {
       "model_id": "78a0df22fd9f43b284f9b1991a8bace3",
       "version_major": 2,
       "version_minor": 0
      },
      "text/plain": [
       "GPJobWidget(job_number=347660)"
      ]
     },
     "metadata": {},
     "output_type": "display_data"
    }
   ],
   "source": [
    "tcga_sampleselection_task = gp.GPTask(genepattern.session.get(0), 'urn:lsid:genepattern.org:module.analysis:00417')\n",
    "tcga_sampleselection_job_spec = tcga_sampleselection_task.make_job_spec()\n",
    "tcga_sampleselection_job_spec.set_parameter(\"TCGA.Collection\", \"BRCA\")\n",
    "tcga_sampleselection_job_spec.set_parameter(\"Gene.Symbol\", \"FZD7\")\n",
    "tcga_sampleselection_job_spec.set_parameter(\"High.Expression\", \"1\")\n",
    "tcga_sampleselection_job_spec.set_parameter(\"Low.Expression\", \"-1\")\n",
    "tcga_sampleselection_job_spec.set_parameter(\"Output.Type\", \"scaled_estimate\")\n",
    "tcga_sampleselection_job_spec.set_parameter(\"MSigDB.Version\", \"latest\")\n",
    "tcga_sampleselection_job_spec.set_parameter(\"job.memory\", \"8Gb\")\n",
    "tcga_sampleselection_job_spec.set_parameter(\"job.queue\", \"gp-cloud-default\")\n",
    "tcga_sampleselection_job_spec.set_parameter(\"job.cpuCount\", \"1\")\n",
    "tcga_sampleselection_job_spec.set_parameter(\"job.walltime\", \"02:00:00\")\n",
    "genepattern.display(tcga_sampleselection_task)\n",
    "\n",
    "\n",
    "job347660 = gp.GPJob(genepattern.session.get(0), 347660)\n",
    "genepattern.display(job347660)"
   ]
  },
  {
   "cell_type": "code",
   "execution_count": 13,
   "id": "focal-helmet",
   "metadata": {
    "genepattern": {
     "description": "Performs single sample GSEA.  NOTE: with the release of v10.0.1, this module was renamed from \"ssGSEAProjection\" to just \"ssGSEA\"",
     "name": "ssGSEA",
     "param_values": {
      "combine.mode": null,
      "gene.set.selection": null,
      "gene.sets.database.files": null,
      "gene.symbol.column": null,
      "input.gct.file": null,
      "job.cpuCount": null,
      "job.memory": null,
      "job.queue": null,
      "job.walltime": null,
      "min.gene.set.size": null,
      "output.file.prefix": null,
      "sample.normalization.method": null,
      "weighting.exponent": null
     },
     "type": "task"
    },
    "scrolled": false
   },
   "outputs": [
    {
     "data": {
      "application/vnd.jupyter.widget-view+json": {
       "model_id": "bd147d4ea48d4b178784a6d427f2b915",
       "version_major": 2,
       "version_minor": 0
      },
      "text/plain": [
       "GPTaskWidget(lsid='urn:lsid:broad.mit.edu:cancer.software.genepattern.module.analysis:00270')"
      ]
     },
     "metadata": {},
     "output_type": "display_data"
    },
    {
     "data": {
      "application/vnd.jupyter.widget-view+json": {
       "model_id": "a2e33e27cec9486f9a31b25d2780518c",
       "version_major": 2,
       "version_minor": 0
      },
      "text/plain": [
       "GPJobWidget(job_number=347666)"
      ]
     },
     "metadata": {},
     "output_type": "display_data"
    }
   ],
   "source": [
    "ssgsea_task = gp.GPTask(genepattern.session.get(0), 'urn:lsid:broad.mit.edu:cancer.software.genepattern.module.analysis:00270')\n",
    "ssgsea_job_spec = ssgsea_task.make_job_spec()\n",
    "ssgsea_job_spec.set_parameter(\"input.gct.file\", \"https://cloud.genepattern.org/gp/jobResults/347660/TCGA_BRCA_FZD7_HIGH_stdev_greater_than_1_vs_LOW_stdev_less_than_neg_1.TPM.gct\")\n",
    "ssgsea_job_spec.set_parameter(\"output.file.prefix\", \"\")\n",
    "ssgsea_job_spec.set_parameter(\"gene.sets.database.files\", [\"ftp://gpftp.broadinstitute.org/module_support_files/msigdb/gmt/h.all.v7.4.symbols.gmt\", \"ftp://gpftp.broadinstitute.org/module_support_files/msigdb/gmt/c6.all.v7.4.symbols.gmt\"])\n",
    "ssgsea_job_spec.set_parameter(\"gene.symbol.column\", \"Name\")\n",
    "ssgsea_job_spec.set_parameter(\"gene.set.selection\", \"ALL\")\n",
    "ssgsea_job_spec.set_parameter(\"sample.normalization.method\", \"none\")\n",
    "ssgsea_job_spec.set_parameter(\"weighting.exponent\", \"0.75\")\n",
    "ssgsea_job_spec.set_parameter(\"min.gene.set.size\", \"10\")\n",
    "ssgsea_job_spec.set_parameter(\"combine.mode\", \"combine.add\")\n",
    "ssgsea_job_spec.set_parameter(\"job.memory\", \"2 Gb\")\n",
    "ssgsea_job_spec.set_parameter(\"job.queue\", \"gp-new-beta\")\n",
    "ssgsea_job_spec.set_parameter(\"job.cpuCount\", \"1\")\n",
    "ssgsea_job_spec.set_parameter(\"job.walltime\", \"02:00:00\")\n",
    "genepattern.display(ssgsea_task)\n",
    "\n",
    "job347666 = gp.GPJob(genepattern.session.get(0), 347666)\n",
    "genepattern.display(job347666)"
   ]
  },
  {
   "cell_type": "code",
   "execution_count": 14,
   "id": "expressed-sword",
   "metadata": {
    "genepattern": {
     "description": "Generate ROC curves and calculate the AUC from ssGSEA results and a binary phenotype classification.",
     "name": "ssGSEA_ROC",
     "param_values": {
      "CLS": null,
      "PROJ.gct": null,
      "Plot.Top.Results": null,
      "Reverse": null,
      "job.cpuCount": null,
      "job.memory": null,
      "job.queue": null,
      "job.walltime": null
     },
     "type": "task"
    }
   },
   "outputs": [
    {
     "data": {
      "application/vnd.jupyter.widget-view+json": {
       "model_id": "a197a855eece4248a5ac404c93762df4",
       "version_major": 2,
       "version_minor": 0
      },
      "text/plain": [
       "GPTaskWidget(lsid='urn:lsid:8080.gpserver.ip-172-31-26-71.ip-172-31-26-71.ec2.internal:genepatternmodules:177'…"
      ]
     },
     "metadata": {},
     "output_type": "display_data"
    },
    {
     "data": {
      "application/vnd.jupyter.widget-view+json": {
       "model_id": "78cc44f5bd3244bb89b8d045ff36d06a",
       "version_major": 2,
       "version_minor": 0
      },
      "text/plain": [
       "GPJobWidget(job_number=347669)"
      ]
     },
     "metadata": {},
     "output_type": "display_data"
    }
   ],
   "source": [
    "ssgsea_roc_task = gp.GPTask(genepattern.session.get(0), 'urn:lsid:8080.gpserver.ip-172-31-26-71.ip-172-31-26-71.ec2.internal:genepatternmodules:177')\n",
    "ssgsea_roc_job_spec = ssgsea_roc_task.make_job_spec()\n",
    "ssgsea_roc_job_spec.set_parameter(\"PROJ.gct\", \"https://cloud.genepattern.org/gp/jobResults/347666/TCGA_BRCA_FZD7_HIGH_stdev_greater_than_1_vs_LOW_stdev_less_than_neg_1.TPM.PROJ.gct\")\n",
    "ssgsea_roc_job_spec.set_parameter(\"CLS\", \"https://cloud.genepattern.org/gp/jobResults/347660/TCGA_BRCA_FZD7_HIGH_stdev_greater_than_1_vs_LOW_stdev_less_than_neg_1.cls\")\n",
    "ssgsea_roc_job_spec.set_parameter(\"Reverse\", \"FALSE\")\n",
    "ssgsea_roc_job_spec.set_parameter(\"Plot.Top.Results\", \"20\")\n",
    "ssgsea_roc_job_spec.set_parameter(\"job.memory\", \"4Gb\")\n",
    "ssgsea_roc_job_spec.set_parameter(\"job.queue\", \"gp-new-beta\")\n",
    "ssgsea_roc_job_spec.set_parameter(\"job.cpuCount\", \"1\")\n",
    "ssgsea_roc_job_spec.set_parameter(\"job.walltime\", \"02:00:00\")\n",
    "genepattern.display(ssgsea_roc_task)\n",
    "\n",
    "\n",
    "job347669 = gp.GPJob(genepattern.session.get(0), 347669)\n",
    "genepattern.display(job347669)"
   ]
  },
  {
   "cell_type": "code",
   "execution_count": null,
   "id": "comic-short",
   "metadata": {},
   "outputs": [],
   "source": []
  }
 ],
 "metadata": {
  "genepattern": {
   "repository_url": "http://notebook.genepattern.org/services/sharing/notebooks/412/"
  },
  "kernelspec": {
   "display_name": "Python 3.8",
   "language": "python",
   "name": "python3.8"
  },
  "language_info": {
   "codemirror_mode": {
    "name": "ipython",
    "version": 3
   },
   "file_extension": ".py",
   "mimetype": "text/x-python",
   "name": "python",
   "nbconvert_exporter": "python",
   "pygments_lexer": "ipython3",
   "version": "3.8.8"
  },
  "toc": {
   "base_numbering": 1,
   "nav_menu": {},
   "number_sections": false,
   "sideBar": true,
   "skip_h1_title": false,
   "title_cell": "Table of Contents",
   "title_sidebar": "Contents",
   "toc_cell": false,
   "toc_position": {},
   "toc_section_display": true,
   "toc_window_display": false
  }
 },
 "nbformat": 4,
 "nbformat_minor": 5
}
