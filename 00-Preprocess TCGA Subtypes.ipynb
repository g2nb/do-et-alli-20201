{
 "cells": [
  {
   "cell_type": "code",
   "execution_count": 1,
   "id": "fundamental-guyana",
   "metadata": {
    "ExecuteTime": {
     "end_time": "2021-07-29T15:36:30.591109Z",
     "start_time": "2021-07-29T15:36:13.691300Z"
    }
   },
   "outputs": [],
   "source": [
    "import pandas as pd\n",
    "from tqdm.notebook import tqdm"
   ]
  },
  {
   "cell_type": "markdown",
   "id": "progressive-castle",
   "metadata": {},
   "source": [
    "subtypes_from_TCGAbiolinks.csv was downloaded using the TCGAbiolinks package no 2021-07-28 and saved to a CSV file. More info on TCGAbiolinks:\n",
    "\n",
    "Here are the shell script commands used in a terminal on the GenePattern Notebook server:\n",
    "```\n",
    "source activate python3.8\n",
    "conda install -c bioconda bioconductor-tcgabiolinks=2.18.0\n",
    "R\n",
    "#Now we are running inside of R\n",
    "library(TCGAbiolinks)\n",
    "subtypes <- PanCancerAtlas_subtypes()\n",
    "write.csv(subtypes,'/home/jovyan/subtypes_from_TCGAbiolinks.csv')\n",
    "q()\n",
    "source deactivate python3.8\n",
    "```\n",
    "\n",
    "\n",
    "https://www.bioconductor.org/packages/release/bioc/vignettes/TCGAbiolinks/inst/doc/subtypes.html#PanCancerAtlas_subtypes:_Curated_molecular_subtypes"
   ]
  },
  {
   "cell_type": "code",
   "execution_count": 3,
   "id": "welcome-implementation",
   "metadata": {
    "ExecuteTime": {
     "end_time": "2021-07-29T15:56:10.153598Z",
     "start_time": "2021-07-29T15:56:10.123504Z"
    },
    "scrolled": false
   },
   "outputs": [
    {
     "name": "stdout",
     "output_type": "stream",
     "text": [
      "subtypes.shape= (7734, 10)\n"
     ]
    }
   ],
   "source": [
    "subtypes = pd.read_csv('subtypes_from_TCGAbiolinks.csv',index_col=1)\n",
    "print('subtypes.shape=',subtypes.shape)\n",
    "# subtypes.head()"
   ]
  },
  {
   "cell_type": "code",
   "execution_count": 13,
   "id": "interstate-priority",
   "metadata": {
    "ExecuteTime": {
     "end_time": "2021-07-28T22:58:26.777535Z",
     "start_time": "2021-07-28T22:58:26.774563Z"
    }
   },
   "outputs": [],
   "source": [
    "# subtypes.tail()"
   ]
  },
  {
   "cell_type": "code",
   "execution_count": 6,
   "id": "mineral-royal",
   "metadata": {
    "ExecuteTime": {
     "end_time": "2021-07-29T15:56:33.883741Z",
     "start_time": "2021-07-29T15:56:33.767383Z"
    }
   },
   "outputs": [],
   "source": [
    "new_index = subtypes.index.to_frame().apply(lambda x: x['pan.samplesID'][:12],axis=1)"
   ]
  },
  {
   "cell_type": "code",
   "execution_count": 7,
   "id": "wound-tyler",
   "metadata": {
    "ExecuteTime": {
     "end_time": "2021-07-29T15:56:34.683346Z",
     "start_time": "2021-07-29T15:56:34.568980Z"
    }
   },
   "outputs": [],
   "source": [
    "p_n = subtypes.index.to_frame().apply(lambda x: x['pan.samplesID'][13:15],axis=1)"
   ]
  },
  {
   "cell_type": "code",
   "execution_count": 8,
   "id": "hazardous-briefing",
   "metadata": {
    "ExecuteTime": {
     "end_time": "2021-07-29T15:56:38.452538Z",
     "start_time": "2021-07-29T15:56:38.445973Z"
    },
    "scrolled": true
   },
   "outputs": [
    {
     "data": {
      "text/plain": [
       "7606"
      ]
     },
     "execution_count": 8,
     "metadata": {},
     "output_type": "execute_result"
    }
   ],
   "source": [
    "len(new_index.unique())"
   ]
  },
  {
   "cell_type": "code",
   "execution_count": 70,
   "id": "sized-virtue",
   "metadata": {
    "ExecuteTime": {
     "end_time": "2021-07-28T23:30:15.394948Z",
     "start_time": "2021-07-28T23:30:15.391652Z"
    }
   },
   "outputs": [],
   "source": []
  },
  {
   "cell_type": "code",
   "execution_count": 9,
   "id": "human-gibraltar",
   "metadata": {
    "ExecuteTime": {
     "end_time": "2021-07-29T15:56:43.369350Z",
     "start_time": "2021-07-29T15:56:43.360251Z"
    }
   },
   "outputs": [
    {
     "name": "stderr",
     "output_type": "stream",
     "text": [
      "<ipython-input-9-331e6b47cfc0>:2: SettingWithCopyWarning: \n",
      "A value is trying to be set on a copy of a slice from a DataFrame.\n",
      "Try using .loc[row_indexer,col_indexer] = value instead\n",
      "\n",
      "See the caveats in the documentation: https://pandas.pydata.org/pandas-docs/stable/user_guide/indexing.html#returning-a-view-versus-a-copy\n",
      "  subset['TCGA_ID'] = new_index.copy()\n",
      "<ipython-input-9-331e6b47cfc0>:3: SettingWithCopyWarning: \n",
      "A value is trying to be set on a copy of a slice from a DataFrame.\n",
      "Try using .loc[row_indexer,col_indexer] = value instead\n",
      "\n",
      "See the caveats in the documentation: https://pandas.pydata.org/pandas-docs/stable/user_guide/indexing.html#returning-a-view-versus-a-copy\n",
      "  subset['Primary/Normal'] = p_n.copy()\n"
     ]
    }
   ],
   "source": [
    "subset = subtypes[['Subtype_Selected']]\n",
    "subset['TCGA_ID'] = new_index.copy()\n",
    "subset['Primary/Normal'] = p_n.copy()"
   ]
  },
  {
   "cell_type": "code",
   "execution_count": 11,
   "id": "dominant-manhattan",
   "metadata": {
    "ExecuteTime": {
     "end_time": "2021-07-29T15:56:52.713031Z",
     "start_time": "2021-07-29T15:56:52.697294Z"
    }
   },
   "outputs": [
    {
     "name": "stdout",
     "output_type": "stream",
     "text": [
      "114 Normals\n",
      "275 Metastasis\n",
      "3 New Primary\n"
     ]
    }
   ],
   "source": [
    "# Removing all Normal samples\n",
    "print(f\"{len(subset[subset['Primary/Normal']=='11'])} Normals\")\n",
    "subset = subset[subset['Primary/Normal']!='11']\n",
    "print(f\"{len(subset[subset['Primary/Normal']=='06'])} Metastasis\")\n",
    "subset = subset[subset['Primary/Normal']!='06']\n",
    "print(f\"{len(subset[subset['Primary/Normal']=='05'])} New Primary\")\n",
    "subset = subset[subset['Primary/Normal']!='05']\n",
    "# duplicated = subset[subset['TCGA_ID'].duplicated(False)]['TCGA_ID'].unique()"
   ]
  },
  {
   "cell_type": "code",
   "execution_count": 12,
   "id": "adequate-nickel",
   "metadata": {
    "ExecuteTime": {
     "end_time": "2021-07-29T15:56:54.157264Z",
     "start_time": "2021-07-29T15:56:54.152101Z"
    }
   },
   "outputs": [
    {
     "data": {
      "text/plain": [
       "(7342, 3)"
      ]
     },
     "execution_count": 12,
     "metadata": {},
     "output_type": "execute_result"
    }
   ],
   "source": [
    "subset.shape"
   ]
  },
  {
   "cell_type": "code",
   "execution_count": 13,
   "id": "solar-ending",
   "metadata": {
    "ExecuteTime": {
     "end_time": "2021-07-29T15:56:57.449759Z",
     "start_time": "2021-07-29T15:56:57.442250Z"
    }
   },
   "outputs": [
    {
     "data": {
      "text/plain": [
       "7342"
      ]
     },
     "execution_count": 13,
     "metadata": {},
     "output_type": "execute_result"
    }
   ],
   "source": [
    "len(subset['TCGA_ID'].unique())"
   ]
  },
  {
   "cell_type": "code",
   "execution_count": 21,
   "id": "iraqi-lobby",
   "metadata": {
    "ExecuteTime": {
     "end_time": "2021-07-29T16:14:48.318382Z",
     "start_time": "2021-07-29T16:14:48.292366Z"
    }
   },
   "outputs": [
    {
     "data": {
      "text/html": [
       "<div>\n",
       "<style scoped>\n",
       "    .dataframe tbody tr th:only-of-type {\n",
       "        vertical-align: middle;\n",
       "    }\n",
       "\n",
       "    .dataframe tbody tr th {\n",
       "        vertical-align: top;\n",
       "    }\n",
       "\n",
       "    .dataframe thead th {\n",
       "        text-align: right;\n",
       "    }\n",
       "</style>\n",
       "<table border=\"1\" class=\"dataframe\">\n",
       "  <thead>\n",
       "    <tr style=\"text-align: right;\">\n",
       "      <th></th>\n",
       "      <th>Subtype_Selected</th>\n",
       "      <th>TCGA_ID</th>\n",
       "      <th>Primary/Normal</th>\n",
       "      <th>Cancer_Type</th>\n",
       "      <th>Cancer_Subtype</th>\n",
       "    </tr>\n",
       "    <tr>\n",
       "      <th>pan.samplesID</th>\n",
       "      <th></th>\n",
       "      <th></th>\n",
       "      <th></th>\n",
       "      <th></th>\n",
       "      <th></th>\n",
       "    </tr>\n",
       "  </thead>\n",
       "  <tbody>\n",
       "    <tr>\n",
       "      <th>TCGA-OR-A5J1</th>\n",
       "      <td>ACC.CIMP-high</td>\n",
       "      <td>TCGA-OR-A5J1</td>\n",
       "      <td></td>\n",
       "      <td>ACC</td>\n",
       "      <td>CIMP-high</td>\n",
       "    </tr>\n",
       "    <tr>\n",
       "      <th>TCGA-OR-A5J2</th>\n",
       "      <td>ACC.CIMP-low</td>\n",
       "      <td>TCGA-OR-A5J2</td>\n",
       "      <td></td>\n",
       "      <td>ACC</td>\n",
       "      <td>CIMP-low</td>\n",
       "    </tr>\n",
       "    <tr>\n",
       "      <th>TCGA-OR-A5J3</th>\n",
       "      <td>ACC.CIMP-intermediate</td>\n",
       "      <td>TCGA-OR-A5J3</td>\n",
       "      <td></td>\n",
       "      <td>ACC</td>\n",
       "      <td>CIMP-intermediate</td>\n",
       "    </tr>\n",
       "    <tr>\n",
       "      <th>TCGA-OR-A5J4</th>\n",
       "      <td>ACC.CIMP-high</td>\n",
       "      <td>TCGA-OR-A5J4</td>\n",
       "      <td></td>\n",
       "      <td>ACC</td>\n",
       "      <td>CIMP-high</td>\n",
       "    </tr>\n",
       "    <tr>\n",
       "      <th>TCGA-OR-A5J5</th>\n",
       "      <td>ACC.CIMP-intermediate</td>\n",
       "      <td>TCGA-OR-A5J5</td>\n",
       "      <td></td>\n",
       "      <td>ACC</td>\n",
       "      <td>CIMP-intermediate</td>\n",
       "    </tr>\n",
       "    <tr>\n",
       "      <th>...</th>\n",
       "      <td>...</td>\n",
       "      <td>...</td>\n",
       "      <td>...</td>\n",
       "      <td>...</td>\n",
       "      <td>...</td>\n",
       "    </tr>\n",
       "    <tr>\n",
       "      <th>TCGA-ND-A4WA-01A-12R-A28V-07</th>\n",
       "      <td>UCS.2</td>\n",
       "      <td>TCGA-ND-A4WA</td>\n",
       "      <td>01</td>\n",
       "      <td>UCS</td>\n",
       "      <td>2</td>\n",
       "    </tr>\n",
       "    <tr>\n",
       "      <th>TCGA-NG-A4VU-01A-11R-A28V-07</th>\n",
       "      <td>UCS.1</td>\n",
       "      <td>TCGA-NG-A4VU</td>\n",
       "      <td>01</td>\n",
       "      <td>UCS</td>\n",
       "      <td>1</td>\n",
       "    </tr>\n",
       "    <tr>\n",
       "      <th>TCGA-QN-A5NN-01A-11R-A28V-07</th>\n",
       "      <td>UCS.2</td>\n",
       "      <td>TCGA-QN-A5NN</td>\n",
       "      <td>01</td>\n",
       "      <td>UCS</td>\n",
       "      <td>2</td>\n",
       "    </tr>\n",
       "    <tr>\n",
       "      <th>TCGA-NF-A5CP-01A-12R-A28V-07</th>\n",
       "      <td>UCS.2</td>\n",
       "      <td>TCGA-NF-A5CP</td>\n",
       "      <td>01</td>\n",
       "      <td>UCS</td>\n",
       "      <td>2</td>\n",
       "    </tr>\n",
       "    <tr>\n",
       "      <th>TCGA-N5-A4RM-01A-11R-A28V-07</th>\n",
       "      <td>UCS.2</td>\n",
       "      <td>TCGA-N5-A4RM</td>\n",
       "      <td>01</td>\n",
       "      <td>UCS</td>\n",
       "      <td>2</td>\n",
       "    </tr>\n",
       "  </tbody>\n",
       "</table>\n",
       "<p>7342 rows × 5 columns</p>\n",
       "</div>"
      ],
      "text/plain": [
       "                                   Subtype_Selected       TCGA_ID  \\\n",
       "pan.samplesID                                                       \n",
       "TCGA-OR-A5J1                          ACC.CIMP-high  TCGA-OR-A5J1   \n",
       "TCGA-OR-A5J2                           ACC.CIMP-low  TCGA-OR-A5J2   \n",
       "TCGA-OR-A5J3                  ACC.CIMP-intermediate  TCGA-OR-A5J3   \n",
       "TCGA-OR-A5J4                          ACC.CIMP-high  TCGA-OR-A5J4   \n",
       "TCGA-OR-A5J5                  ACC.CIMP-intermediate  TCGA-OR-A5J5   \n",
       "...                                             ...           ...   \n",
       "TCGA-ND-A4WA-01A-12R-A28V-07                  UCS.2  TCGA-ND-A4WA   \n",
       "TCGA-NG-A4VU-01A-11R-A28V-07                  UCS.1  TCGA-NG-A4VU   \n",
       "TCGA-QN-A5NN-01A-11R-A28V-07                  UCS.2  TCGA-QN-A5NN   \n",
       "TCGA-NF-A5CP-01A-12R-A28V-07                  UCS.2  TCGA-NF-A5CP   \n",
       "TCGA-N5-A4RM-01A-11R-A28V-07                  UCS.2  TCGA-N5-A4RM   \n",
       "\n",
       "                             Primary/Normal Cancer_Type     Cancer_Subtype  \n",
       "pan.samplesID                                                               \n",
       "TCGA-OR-A5J1                                        ACC          CIMP-high  \n",
       "TCGA-OR-A5J2                                        ACC           CIMP-low  \n",
       "TCGA-OR-A5J3                                        ACC  CIMP-intermediate  \n",
       "TCGA-OR-A5J4                                        ACC          CIMP-high  \n",
       "TCGA-OR-A5J5                                        ACC  CIMP-intermediate  \n",
       "...                                     ...         ...                ...  \n",
       "TCGA-ND-A4WA-01A-12R-A28V-07             01         UCS                  2  \n",
       "TCGA-NG-A4VU-01A-11R-A28V-07             01         UCS                  1  \n",
       "TCGA-QN-A5NN-01A-11R-A28V-07             01         UCS                  2  \n",
       "TCGA-NF-A5CP-01A-12R-A28V-07             01         UCS                  2  \n",
       "TCGA-N5-A4RM-01A-11R-A28V-07             01         UCS                  2  \n",
       "\n",
       "[7342 rows x 5 columns]"
      ]
     },
     "execution_count": 21,
     "metadata": {},
     "output_type": "execute_result"
    }
   ],
   "source": [
    "subset['Cancer_Type'] = subset['Subtype_Selected'].apply(lambda x: x.split('.')[0])\n",
    "subset['Cancer_Subtype'] = subset['Subtype_Selected'].apply(lambda x: x.split('.')[1])\n",
    "subset"
   ]
  },
  {
   "cell_type": "code",
   "execution_count": 23,
   "id": "above-delicious",
   "metadata": {
    "ExecuteTime": {
     "end_time": "2021-07-29T16:22:42.175829Z",
     "start_time": "2021-07-29T16:22:37.263168Z"
    }
   },
   "outputs": [],
   "source": [
    "subset[['TCGA_ID','Cancer_Type','Cancer_Subtype']].to_excel('subtypes_from_TCGAbiolinks_preprocessed.xlsx',index=False)"
   ]
  },
  {
   "cell_type": "code",
   "execution_count": null,
   "id": "similar-present",
   "metadata": {},
   "outputs": [],
   "source": []
  }
 ],
 "metadata": {
  "kernelspec": {
   "display_name": "Python 3.8",
   "language": "python",
   "name": "python3.8"
  },
  "language_info": {
   "codemirror_mode": {
    "name": "ipython",
    "version": 3
   },
   "file_extension": ".py",
   "mimetype": "text/x-python",
   "name": "python",
   "nbconvert_exporter": "python",
   "pygments_lexer": "ipython3",
   "version": "3.8.8"
  },
  "toc": {
   "base_numbering": 1,
   "nav_menu": {},
   "number_sections": false,
   "sideBar": true,
   "skip_h1_title": false,
   "title_cell": "Table of Contents",
   "title_sidebar": "Contents",
   "toc_cell": false,
   "toc_position": {},
   "toc_section_display": true,
   "toc_window_display": false
  }
 },
 "nbformat": 4,
 "nbformat_minor": 5
}
